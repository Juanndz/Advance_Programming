{
  "nbformat": 4,
  "nbformat_minor": 0,
  "metadata": {
    "colab": {
      "provenance": [],
      "authorship_tag": "ABX9TyPI+MtrSBv46pVgmj/7fce5",
      "include_colab_link": true
    },
    "kernelspec": {
      "name": "python3",
      "display_name": "Python 3"
    },
    "language_info": {
      "name": "python"
    }
  },
  "cells": [
    {
      "cell_type": "markdown",
      "metadata": {
        "id": "view-in-github",
        "colab_type": "text"
      },
      "source": [
        "<a href=\"https://colab.research.google.com/github/Juanndz/Advance_Programming/blob/main/FirtsWorkshop.ipynb\" target=\"_parent\"><img src=\"https://colab.research.google.com/assets/colab-badge.svg\" alt=\"Open In Colab\"/></a>"
      ]
    },
    {
      "cell_type": "markdown",
      "source": [
        "#First Workshop - Advanced Programming\n",
        "\n",
        "_Vehicule company_\n",
        "\n"
      ],
      "metadata": {
        "id": "kM9-z7s-wCC5"
      }
    },
    {
      "cell_type": "markdown",
      "source": [
        "##Statement\n",
        "\n",
        "You are on charge to create a new internal platform to define a catalog of vehicles, with next requirements:\n",
        "Each vehicle has at least engine, chasis (A or B), model, gas consumption, and year.\n",
        "Depending on the vehicle type, you should define additional properties.\n",
        "There are different vehicle types: car, truck, yacht, motorcycle.\n",
        "Each engine has type, potency, weight.\n",
        "\n",
        "To calculate the vehicle gas consumption you could create a method based on:\n",
        "\n",
        "1.1 * engine.potency + 0.2 engine.weight (0.3 if chassis-A or 0.5 if chassis-B)\n",
        "\n",
        "You must deliver a technical report where a Class Diagram of your solution is provided.\n",
        "\n",
        "Also, you must write about technical concerns and decisions you make to create the architecture you are proposing.\n",
        "Also, you must create the code and provide a simple menu to create vehicles, review all vehicles registered\n",
        "\n"
      ],
      "metadata": {
        "id": "kgrX8rQldehx"
      }
    },
    {
      "cell_type": "code",
      "execution_count": 8,
      "metadata": {
        "id": "SDD2W3ZQv9xG",
        "colab": {
          "base_uri": "https://localhost:8080/"
        },
        "outputId": "4ba610bb-cdc0-4cdf-a790-d1c22ec33c97"
      },
      "outputs": [
        {
          "output_type": "stream",
          "name": "stdout",
          "text": [
            "Type: V6\n",
            "Potency: 300 HP\n",
            "Weight: 200 Kg\n"
          ]
        }
      ],
      "source": [
        "\n",
        "\n",
        "list__types_vehicules = [\"car\", \"truck\", \"yacht\", \"motorcycle\"]\n",
        "\n",
        "class Vehicule():\n",
        "  def __init__(self, type_vehicule, engine, chasis, model, gas_consumption):\n",
        "    self.type_vehicule = type_vehicule\n",
        "    self.engine = engine\n",
        "    self.chasis = chasis\n",
        "    self.model = model\n",
        "    self.gas_consumption = gas_consumption\n",
        "\n",
        "  def VehiculeCharacteristics(self):\n",
        "    print()\n",
        "\n",
        "class Engine:\n",
        "    def __init__(self, type, potency, weight):\n",
        "      self.type = type\n",
        "      self.potency = potency\n",
        "      self.weight = weight\n",
        "\n",
        "    def engineCharacteristics(self):\n",
        "      print(\"Type:\", self.type)\n",
        "      print(\"Potency:\", self.potency, \"HP\")\n",
        "      print(\"Weight:\", self.weight, \"Kg\")\n",
        "\n",
        "def gas_consumption(self):\n",
        "\n",
        "      1.1 * self.engine.potency + 0.2 self.engine.weight (0.3 if chassis-A or 0.5 if chassis-B)\n",
        "\n",
        "Car_1 = Engine(\"V6\", 300, 200)\n",
        "Car_1.engineCharacteristics()\n",
        "\n"
      ]
    },
    {
      "cell_type": "markdown",
      "source": [
        "#Code of the professor"
      ],
      "metadata": {
        "id": "kSH8GDxLi7Zx"
      }
    },
    {
      "cell_type": "code",
      "source": [],
      "metadata": {
        "id": "n9yMBev3i_dn"
      },
      "execution_count": null,
      "outputs": []
    }
  ]
}